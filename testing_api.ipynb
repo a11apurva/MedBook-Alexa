{
 "cells": [
  {
   "cell_type": "code",
   "execution_count": 1,
   "metadata": {
    "collapsed": true
   },
   "outputs": [],
   "source": [
    "import requests\n",
    "import pprint\n",
    "import os\n",
    "\n",
    "token='Bearer '\n",
    "headers = {\n",
    "    'Authorization': token,\n",
    "}"
   ]
  },
  {
   "cell_type": "code",
   "execution_count": 7,
   "metadata": {},
   "outputs": [
    {
     "name": "stdout",
     "output_type": "stream",
     "text": [
      "6Iz3V\n"
     ]
    }
   ],
   "source": [
    "name=\"norflox\"\n",
    "\n",
    "url='http://www.healthos.co/api/v1/search/medicines/brands/'+name\n",
    "\n",
    "response = requests.request(\"GET\", url, headers=headers)\n",
    "\n",
    "id = response.json()[0]['medicine_id']\n",
    "print(id)"
   ]
  },
  {
   "cell_type": "code",
   "execution_count": 8,
   "metadata": {},
   "outputs": [
    {
     "data": {
      "text/plain": [
       "[]"
      ]
     },
     "execution_count": 8,
     "metadata": {},
     "output_type": "execute_result"
    }
   ],
   "source": [
    "url = \"http://www.healthos.co/api/v1/medicines/brands/\"+id+\"/alternatives\"\n",
    "\n",
    "querystring = {\"page\":\"1\",\"size\":\"10\"}\n",
    "\n",
    "response = requests.request(\"GET\", url, headers=headers, params=querystring)\n",
    "\n",
    "response.json()"
   ]
  },
  {
   "cell_type": "code",
   "execution_count": 9,
   "metadata": {},
   "outputs": [
    {
     "name": "stdout",
     "output_type": "stream",
     "text": [
      "[{\"name\":\"Norfloxacin\",\"generic_id\":210368,\"therauptic_uses\":[\"Bacterial infections\"],\"search_score\":116.358574}]\n"
     ]
    }
   ],
   "source": [
    "url = \"http://www.healthos.co/api/v1/autocomplete/medicines/generics/\"+name\n",
    "\n",
    "response = requests.request(\"GET\", url, headers=headers)\n",
    "\n",
    "print(response.text)"
   ]
  },
  {
   "cell_type": "code",
   "execution_count": 11,
   "metadata": {},
   "outputs": [
    {
     "data": {
      "text/plain": [
       "[{'generic': 'Norfloxacin',\n",
       "  'usages': [{'count': 111,\n",
       "    'percent': 19.4,\n",
       "    'term': 'URINARY TRACT INFECTION'},\n",
       "   {'count': 69, 'percent': 12.0, 'term': 'PROPHYLAXIS'},\n",
       "   {'count': 46, 'percent': 8.0, 'term': 'HYPERTENSION'},\n",
       "   {'count': 40, 'percent': 7.0, 'term': 'HEPATITIS C'},\n",
       "   {'count': 39, 'percent': 6.8, 'term': 'RHEUMATOID ARTHRITIS'},\n",
       "   {'count': 27, 'percent': 4.7, 'term': 'DEPRESSION'},\n",
       "   {'count': 26, 'percent': 4.5, 'term': 'GASTROOESOPHAGEAL REFLUX DISEASE'},\n",
       "   {'count': 25, 'percent': 4.4, 'term': 'INFECTION PROPHYLAXIS'}]}]"
      ]
     },
     "execution_count": 11,
     "metadata": {},
     "output_type": "execute_result"
    }
   ],
   "source": [
    "url = \"http://www.healthos.co/api/v1/medicines/brands/\"+id+\"/usages\"\n",
    "\n",
    "response = requests.request(\"GET\", url, headers=headers)\n",
    "\n",
    "response.json()"
   ]
  },
  {
   "cell_type": "code",
   "execution_count": 29,
   "metadata": {},
   "outputs": [
    {
     "name": "stdout",
     "output_type": "stream",
     "text": [
      "Osteoporotic Fracture, also known as osteoporotic fractures, is related to osteoporosis and osteoarthritis. An important gene associated with Osteoporotic Fracture is CER1 (cerberus 1, DAN family BMP antagonist), and among its related pathways are TGF-beta Signaling Pathway and Wnt Signaling Pathway. The compounds calcium carbonate and pamidronate have been mentioned in the context of this disorder. Affiliated tissues include bone, breast and testes, and related mouse phenotypes are growth/size/body and limbs/digits/tail.\n",
      "\n",
      "\n",
      "Dwarfism Thin Bones Multiple Fractures Affiliated tissues include bone.\n",
      "\n",
      "\n",
      "A break in a bone of any size is called a fracture.\n",
      "\n",
      "\n",
      "A fracture is a medical condition where the continuity of the bone is broken usually as a result of high force impact or stress. A fracture can be prevented.\n",
      "\n",
      "\n",
      "A bone fracture (sometimes abbreviated FRX or Fx, Fx, or #) is a medical condition in which there is a... more...Fracture, bone\n",
      "\n",
      "\n",
      "Spondylometaphyseal Dysplasia Corner Fracture Type, also known as spondylometaphyseal dysplasia, 'corner fracture' type, is related to spondyloepimetaphyseal dysplasia, strudwick type and axial spondylometaphyseal dysplasia, and has symptoms including tetralogy of fallot/trilogy of fallot, flat foot and genu valgum. An important gene associated with Spondylometaphyseal Dysplasia Corner Fracture Type is COL2A1 (collagen, type II, alpha 1). Affiliated tissues include bone.\n",
      "\n",
      "\n",
      "Compression Fracture of Vertebral Column is a broken vertebrae of the backbone or spine.\n",
      "\n",
      "\n",
      "\n",
      "\n",
      "\n",
      "Autosomal dominant partial epilepsy with auditory features (ADPEAF) is an uncommon form of epilepsy that runs in families. This disorder causes seizures usually characterized by sound-related (auditory) symptoms such as buzzing, humming, or ringing. Some people experience more complex sounds during a seizure, such as specific voices or music, or changes in the volume of sounds. Some people with ADPEAF suddenly become unable to understand language before losing consciousness during a seizure. This inability to understand speech is known as receptive aphasia. Less commonly, seizures may cause visual hallucinations, a disturbance in the sense of smell, a feeling of dizziness or spinning (vertigo), or other symptoms affecting the senses.\n",
      "\n",
      "\n",
      "\n",
      "\n",
      "\n"
     ]
    }
   ],
   "source": [
    "url = \"http://www.healthos.co/api/v1/search/diseases/frature\"#+name\n",
    "\n",
    "response = requests.request(\"GET\", url, headers=headers)\n",
    "\n",
    "#print (response.json()[0]['disease_cat']+ \"\\n\" + response.json()[0]['disease_info'])\n",
    "len(response.json())\n",
    "\n",
    "for i in range(len(response.json())):\n",
    "    print (response.json()[i]['disease_info'])\n",
    "    print (\"\\n\")"
   ]
  },
  {
   "cell_type": "code",
   "execution_count": 31,
   "metadata": {},
   "outputs": [
    {
     "name": "stdout",
     "output_type": "stream",
     "text": [
      "{\"error\":\"premium_api\",\"error_message\":\"This API endpoint is availaible only for paid customers\"}\n"
     ]
    }
   ],
   "source": [
    "url = \"http://www.healthos.co/api/v1/chat/medicines/what%20is%20combiflam%20used%20for\"\n",
    "\n",
    "response = requests.request(\"GET\", url, headers=headers)\n",
    "\n",
    "print(response.text)"
   ]
  }
 ],
 "metadata": {
  "kernelspec": {
   "display_name": "Python 3",
   "language": "python",
   "name": "python3"
  },
  "language_info": {
   "codemirror_mode": {
    "name": "ipython",
    "version": 3
   },
   "file_extension": ".py",
   "mimetype": "text/x-python",
   "name": "python",
   "nbconvert_exporter": "python",
   "pygments_lexer": "ipython3",
   "version": "3.6.3"
  }
 },
 "nbformat": 4,
 "nbformat_minor": 2
}
